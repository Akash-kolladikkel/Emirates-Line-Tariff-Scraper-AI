{
 "cells": [
  {
   "cell_type": "markdown",
   "metadata": {},
   "source": [
    "# Extracting countries\n"
   ]
  },
  {
   "cell_type": "markdown",
   "metadata": {},
   "source": [
    "imports"
   ]
  },
  {
   "cell_type": "code",
   "execution_count": 1,
   "metadata": {},
   "outputs": [],
   "source": [
    "import time\n",
    "import os\n",
    "\n",
    "from selenium import webdriver \n",
    "from selenium.webdriver.common.by import By\n",
    "from selenium.webdriver.support.ui import WebDriverWait\n",
    "from selenium.webdriver.support import expected_conditions as EC"
   ]
  },
  {
   "cell_type": "code",
   "execution_count": 2,
   "metadata": {},
   "outputs": [],
   "source": [
    "# Set up options for the Chrome driver\n",
    "chrome_options = webdriver.ChromeOptions()\n",
    "\n",
    "# Set up download preferences\n",
    "download_dir = os.path.join(os.getcwd(), \"Data\")\n",
    "prefs = {\"download.default_directory\": download_dir}\n",
    "chrome_options.add_experimental_option(\"prefs\", prefs)\n",
    "\n",
    "# Initialize the Chrome WebDriver\n",
    "driver = webdriver.Chrome(options=chrome_options)"
   ]
  },
  {
   "cell_type": "code",
   "execution_count": 3,
   "metadata": {},
   "outputs": [
    {
     "name": "stdout",
     "output_type": "stream",
     "text": [
      "Page loaded successfully!\n"
     ]
    }
   ],
   "source": [
    "# URL to be scraped\n",
    "url = \"https://www.emiratesline.com/our-offices/\"\n",
    "\n",
    "# Open the URL\n",
    "driver.get(url)\n",
    "\n",
    "print(\"Page loaded successfully!\")"
   ]
  },
  {
   "cell_type": "code",
   "execution_count": 4,
   "metadata": {},
   "outputs": [
    {
     "name": "stdout",
     "output_type": "stream",
     "text": [
      "Total countries found: 35\n",
      "All countries: ['BAHRAIN', 'BANGLADESH', 'CHINA', 'DEMOCRATIC REPUBLIC OF CONGO (DRC)', 'DENMARK', 'EGYPT', 'GERMANY', 'HONG KONG S.A.R.', 'INDIA', 'INDONESIA', 'IRAQ', 'JAPAN', 'JORDAN', 'KENYA', 'KINGDOM OF SAUDI ARABIA', 'KUWAIT', 'MALAYSIA', 'MEXICO', 'MYANMAR', 'PAKISTAN', 'PHILIPPINES', 'QATAR', 'SINGAPORE', 'SOMALIA', 'SOUTH KOREA', 'SRI LANKA', 'SULTANATE OF OMAN', 'TAIWAN, CHINA', 'TANZANIA', 'THAILAND', 'TURKEY', 'UGANDA', 'UNITED ARAB EMIRATES', 'UNITED KINGDOM', 'VIETNAM']\n"
     ]
    }
   ],
   "source": [
    "try:\n",
    "    # Wait for the input field to be available\n",
    "    country_input = WebDriverWait(driver, 10).until(\n",
    "        EC.element_to_be_clickable((By.ID, \"officeCountrySearch\"))\n",
    "    )\n",
    "    \n",
    "    # Click on the input field and type \"*\" to show all countries\n",
    "    country_input.click()\n",
    "    country_input.send_keys(\"*\")\n",
    "    \n",
    "    # Wait for all autocomplete suggestions to appear\n",
    "    suggestions = WebDriverWait(driver, 10).until(\n",
    "        EC.presence_of_all_elements_located((By.XPATH, \"//ul[contains(@class, 'ui-autocomplete')]//li\"))\n",
    "    )\n",
    "    \n",
    "    # Get all countries\n",
    "    all_countries = [option.text for option in suggestions] \n",
    "    print(f\"Total countries found: {len(all_countries)}\")\n",
    "    print(\"All countries:\", all_countries)\n",
    "    \n",
    "except Exception as e:\n",
    "    print(\"Error interacting with country field:\", e)"
   ]
  },
  {
   "cell_type": "markdown",
   "metadata": {},
   "source": [
    "# Navigating Demurrage"
   ]
  },
  {
   "cell_type": "code",
   "execution_count": 5,
   "metadata": {},
   "outputs": [
    {
     "name": "stdout",
     "output_type": "stream",
     "text": [
      "Selected country: BAHRAIN\n",
      "Clicked on Demurrage button!\n"
     ]
    }
   ],
   "source": [
    "try:\n",
    "    # Get the first country from the dropdown list\n",
    "    first_country_element = WebDriverWait(driver, 10).until(\n",
    "        EC.presence_of_all_elements_located((By.XPATH, \"//ul[contains(@class, 'ui-autocomplete')]//li\"))\n",
    "    )[0]  # Get the first country element\n",
    "    \n",
    "    country_name = first_country_element.text\n",
    "    print(\"Selected country:\", country_name)\n",
    "    \n",
    "    # Click on the country to select it\n",
    "    first_country_element.click()\n",
    "    \n",
    "    # Now find and click the search button\n",
    "    search_button = WebDriverWait(driver, 10).until(\n",
    "        EC.element_to_be_clickable((By.XPATH, \"//button[@type='submit']\")) # Adjust the selector based on your page\n",
    "    )\n",
    "    search_button.click()\n",
    "    \n",
    "    # Wait for the new page to load after search\n",
    "    WebDriverWait(driver, 10).until(\n",
    "        EC.presence_of_element_located((By.ID, \"tab-3\"))\n",
    "    )\n",
    "    \n",
    "    # Now locate and click the Demurrage tab\n",
    "    demurrage_button = driver.find_element(By.ID, \"tab-3\")\n",
    "    demurrage_button.click()\n",
    "    print(\"Clicked on Demurrage button!\")\n",
    "\n",
    "except Exception as e:\n",
    "    print(\"Error during country selection or navigation:\", e)"
   ]
  },
  {
   "cell_type": "markdown",
   "metadata": {},
   "source": [
    "# Extracting ports"
   ]
  },
  {
   "cell_type": "code",
   "execution_count": 6,
   "metadata": {},
   "outputs": [
    {
     "name": "stdout",
     "output_type": "stream",
     "text": [
      "Available ports: ['BAHRAIN (BHBAH) (BHBAH)']\n"
     ]
    }
   ],
   "source": [
    "try:\n",
    "    # Find and click the port dropdown to activate it\n",
    "    port_dropdown = WebDriverWait(driver, 10).until(\n",
    "        EC.element_to_be_clickable((By.XPATH, \"//div[contains(@class, 'select-menu')]\"))\n",
    "    )\n",
    "    port_dropdown.click()\n",
    "    \n",
    "    # Wait for the dropdown to become active and options to be visible\n",
    "    WebDriverWait(driver, 10).until(\n",
    "        EC.presence_of_element_located((By.XPATH, \"//div[contains(@class, 'select-menu active')]\"))\n",
    "    )\n",
    "    \n",
    "    # Get all port options\n",
    "    port_options = WebDriverWait(driver, 10).until(\n",
    "        EC.presence_of_all_elements_located((By.XPATH, \"//ul[@id='portSelect']/li\"))\n",
    "    )\n",
    "    \n",
    "    # Extract and print all port names\n",
    "    port_names = [port.text for port in port_options]\n",
    "    print(f\"Available ports: {port_names}\")\n",
    "\n",
    "except Exception as e:\n",
    "    print(\"Error during port selection:\", e)"
   ]
  },
  {
   "cell_type": "markdown",
   "metadata": {},
   "source": [
    "# Exporting to Excel"
   ]
  },
  {
   "cell_type": "code",
   "execution_count": 7,
   "metadata": {},
   "outputs": [
    {
     "name": "stdout",
     "output_type": "stream",
     "text": [
      "Selected port: BAHRAIN (BHBAH) (BHBAH)\n",
      "Clicked on accordion header (+)\n",
      "Clicked on Export to Excel button\n",
      "Excel file downloaded\n"
     ]
    }
   ],
   "source": [
    "\n",
    "try:\n",
    "    # Select the first port\n",
    "    if port_options:\n",
    "        port_options[0].click()\n",
    "        print(f\"Selected port: {port_names[0]}\")\n",
    "    else:\n",
    "        print(\"No ports available to select\")\n",
    "    \n",
    "    # Find and click the accordion header (+ icon)\n",
    "    accordion_button = WebDriverWait(driver, 10).until(\n",
    "        EC.element_to_be_clickable((By.XPATH, \"//button[contains(@class, 'accordion-header')]/div/div/h3[contains(text(), 'Detention and Demurrage charges')]/ancestor::button\"))\n",
    "    )\n",
    "    accordion_button.click()\n",
    "    print(\"Clicked on accordion header (+)\")\n",
    "    \n",
    "    # Find and click the Export to Excel button\n",
    "    export_button = WebDriverWait(driver, 10).until(\n",
    "        EC.element_to_be_clickable((By.XPATH, \"//button[contains(@class, 'primary-btn') and contains(text(), 'Export to Excel')]\"))\n",
    "    )\n",
    "    export_button.click()\n",
    "    print(\"Clicked on Export to Excel button\")\n",
    "    \n",
    "    # Wait for the download to complete (adjust time as needed)\n",
    "    time.sleep(2)\n",
    "    print(\"Excel file downloaded\")\n",
    "    \n",
    "except Exception as e:\n",
    "    print(f\"Error during operation: {e}\")"
   ]
  },
  {
   "cell_type": "code",
   "execution_count": 8,
   "metadata": {},
   "outputs": [
    {
     "name": "stdout",
     "output_type": "stream",
     "text": [
      "Browser closed.\n"
     ]
    }
   ],
   "source": [
    "# Close the browser\n",
    "driver.quit()\n",
    "print(\"Browser closed.\")"
   ]
  }
 ],
 "metadata": {
  "kernelspec": {
   "display_name": ".venv",
   "language": "python",
   "name": "python3"
  },
  "language_info": {
   "codemirror_mode": {
    "name": "ipython",
    "version": 3
   },
   "file_extension": ".py",
   "mimetype": "text/x-python",
   "name": "python",
   "nbconvert_exporter": "python",
   "pygments_lexer": "ipython3",
   "version": "3.12.5"
  }
 },
 "nbformat": 4,
 "nbformat_minor": 2
}
