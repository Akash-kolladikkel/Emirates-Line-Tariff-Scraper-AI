{
 "cells": [
  {
   "cell_type": "markdown",
   "id": "5ed474e4",
   "metadata": {},
   "source": [
    "Credentials"
   ]
  },
  {
   "cell_type": "code",
   "execution_count": 4,
   "id": "17a69546",
   "metadata": {},
   "outputs": [],
   "source": [
    "import google.generativeai as genai\n",
    "import os\n",
    "\n",
    "from dotenv import load_dotenv\n",
    "from langchain_google_genai import ChatGoogleGenerativeAI\n",
    "\n",
    "load_dotenv()\n",
    "genai.configure(api_key=os.getenv(\"GOOGLE_API_KEY\"))"
   ]
  },
  {
   "cell_type": "markdown",
   "id": "78dfb8b2",
   "metadata": {},
   "source": [
    "LLM Configuration"
   ]
  },
  {
   "cell_type": "code",
   "execution_count": 5,
   "id": "a4b9c81d",
   "metadata": {},
   "outputs": [],
   "source": [
    "llm = ChatGoogleGenerativeAI(\n",
    "    model=\"gemini-2.0-flash\",\n",
    "    temperature=0\n",
    ")"
   ]
  },
  {
   "cell_type": "markdown",
   "id": "8c009088",
   "metadata": {},
   "source": [
    "Custom Parameters"
   ]
  },
  {
   "cell_type": "code",
   "execution_count": 6,
   "id": "f272a9b4",
   "metadata": {},
   "outputs": [],
   "source": [
    "instruction = \"\"\"When answering questions, follow this exact process:\n",
    "1. Always use the Full CSV data that was loaded automatically as 'df'.Do not create new sample dataframes when answering questions.\n",
    "2. Think about how to solve the problem\n",
    "3. ALWAYS use the python_repl_ast tool by formatting your response as:\n",
    "Action: python_repl_ast\n",
    "Action Input: <your python code here>\n",
    "4. Analyze the results and provide a final answer\n",
    "\"\"\""
   ]
  },
  {
   "cell_type": "markdown",
   "id": "64d29d6e",
   "metadata": {},
   "source": [
    "CSV-agent"
   ]
  },
  {
   "cell_type": "code",
   "execution_count": 7,
   "id": "1593710a",
   "metadata": {},
   "outputs": [],
   "source": [
    "from langchain_experimental.agents import create_csv_agent\n",
    "\n",
    "agent = create_csv_agent(\n",
    "    llm,\n",
    "    \"Final.csv\",\n",
    "    verbose=True,\n",
    "    prefix = instruction,\n",
    "    allow_dangerous_code=True,\n",
    "    agent_executor_kwargs={\"handle_parsing_errors\": True}\n",
    ")"
   ]
  },
  {
   "cell_type": "code",
   "execution_count": 8,
   "id": "3b931513",
   "metadata": {},
   "outputs": [
    {
     "name": "stdout",
     "output_type": "stream",
     "text": [
      "\n",
      "\n",
      "\u001b[1m> Entering new AgentExecutor chain...\u001b[0m\n",
      "\u001b[32;1m\u001b[1;3mThought: I need to filter the dataframe to only include rows where the country is Bahrain, and then sum the 'Free_days' column.\n",
      "Action: python_repl_ast\n",
      "Action Input: ```python\n",
      "bahrain_df = df[df['Country'] == 'Bahrain']\n",
      "total_free_days = bahrain_df['Free_days'].sum()\n",
      "print(total_free_days)\n",
      "```\u001b[0m\u001b[36;1m\u001b[1;3m15.0\n",
      "\u001b[0m\u001b[32;1m\u001b[1;3mI have successfully calculated the sum of free days in Bahrain.\n",
      "Final Answer: 15.0\u001b[0m\n",
      "\n",
      "\u001b[1m> Finished chain.\u001b[0m\n"
     ]
    },
    {
     "data": {
      "text/plain": [
       "{'input': 'sum of freedays in bahrain', 'output': '15.0'}"
      ]
     },
     "execution_count": 8,
     "metadata": {},
     "output_type": "execute_result"
    }
   ],
   "source": [
    "agent.invoke(\"sum of freedays in bahrain\")"
   ]
  },
  {
   "cell_type": "code",
   "execution_count": 9,
   "id": "45ba6fdc",
   "metadata": {},
   "outputs": [
    {
     "name": "stdout",
     "output_type": "stream",
     "text": [
      "\n",
      "\n",
      "\u001b[1m> Entering new AgentExecutor chain...\u001b[0m\n",
      "\u001b[32;1m\u001b[1;3mThought: To find the total number of countries, I need to count the unique values in the 'Country' column of the dataframe.\n",
      "Action: python_repl_ast\n",
      "Action Input: `print(df['Country'].nunique())`\u001b[0m\u001b[36;1m\u001b[1;3m30\n",
      "\u001b[0m\u001b[32;1m\u001b[1;3mI now know the final answer\n",
      "Final Answer: 30\u001b[0m\n",
      "\n",
      "\u001b[1m> Finished chain.\u001b[0m\n"
     ]
    },
    {
     "data": {
      "text/plain": [
       "{'input': 'Total countries?', 'output': '30'}"
      ]
     },
     "execution_count": 9,
     "metadata": {},
     "output_type": "execute_result"
    }
   ],
   "source": [
    "agent.invoke(\"Total countries?\")"
   ]
  }
 ],
 "metadata": {
  "kernelspec": {
   "display_name": "chatbot",
   "language": "python",
   "name": "python3"
  },
  "language_info": {
   "codemirror_mode": {
    "name": "ipython",
    "version": 3
   },
   "file_extension": ".py",
   "mimetype": "text/x-python",
   "name": "python",
   "nbconvert_exporter": "python",
   "pygments_lexer": "ipython3",
   "version": "3.12.9"
  }
 },
 "nbformat": 4,
 "nbformat_minor": 5
}
