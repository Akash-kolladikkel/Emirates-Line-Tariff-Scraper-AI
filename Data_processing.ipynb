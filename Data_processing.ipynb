{
 "cells": [
  {
   "cell_type": "markdown",
   "id": "23c7f640",
   "metadata": {},
   "source": [
    "Imports"
   ]
  },
  {
   "cell_type": "code",
   "execution_count": 1,
   "id": "725ee3e7",
   "metadata": {},
   "outputs": [],
   "source": [
    "import os\n",
    "import pandas as pd\n",
    "import google.generativeai as genai\n",
    "import re\n",
    "import io\n",
    "\n",
    "from docling.document_converter import DocumentConverter\n",
    "from pathlib import Path\n",
    "from dotenv import load_dotenv "
   ]
  },
  {
   "cell_type": "code",
   "execution_count": 2,
   "id": "f2a40c3e",
   "metadata": {},
   "outputs": [],
   "source": [
    "# Gemini Setup\n",
    "load_dotenv()\n",
    "genai.configure(api_key=os.getenv(\"GOOGLE_API_KEY\"))\n",
    "model = genai.GenerativeModel('gemini-2.0-flash')"
   ]
  },
  {
   "cell_type": "markdown",
   "id": "f9b9ced6",
   "metadata": {},
   "source": [
    "Pre-processing"
   ]
  },
  {
   "cell_type": "code",
   "execution_count": 3,
   "id": "72b81c71",
   "metadata": {},
   "outputs": [
    {
     "name": "stderr",
     "output_type": "stream",
     "text": [
      "<>:2: SyntaxWarning: invalid escape sequence '\\I'\n",
      "<>:2: SyntaxWarning: invalid escape sequence '\\I'\n",
      "C:\\Users\\kolla\\AppData\\Local\\Temp\\ipykernel_7388\\339093756.py:2: SyntaxWarning: invalid escape sequence '\\I'\n",
      "  file_path = Path(\"Data\\India-Ahmedabad.xlsx\")\n"
     ]
    }
   ],
   "source": [
    "# File processing\n",
    "file_path = Path(\"Data\\India-Ahmedabad.xlsx\")  \n",
    "filename = file_path.stem  \n",
    "\n",
    "# Split country and port \n",
    "country, port = re.split(r\"[-_]\", filename, 1)\n",
    "port = port.replace(\"-\", \" \").replace(\"_\", \" \").title()"
   ]
  },
  {
   "cell_type": "code",
   "execution_count": 4,
   "id": "f626acaa",
   "metadata": {},
   "outputs": [
    {
     "name": "stdout",
     "output_type": "stream",
     "text": [
      "country : India\n",
      "\n",
      "Port : Ahmedabad\n"
     ]
    }
   ],
   "source": [
    "print(\"country :\",country)\n",
    "print(\"\\nPort :\",port)"
   ]
  },
  {
   "cell_type": "code",
   "execution_count": 5,
   "id": "1003a474",
   "metadata": {},
   "outputs": [
    {
     "data": {
      "text/plain": [
       "\"| Effective: Feb 15, 2024                                           |\\n|-------------------------------------------------------------------|\\n| DV: Dry Container, High Cube and Non-Operative Reefer             |\\n| SP: Special Container (Open Top, Flat Rack, Ventilated, Platform) |\\n| RE: Reefer Container                                              |\\n\\n| All days are calendar or running days                                                                                                                                                                                                                                                     |\\n|-------------------------------------------------------------------------------------------------------------------------------------------------------------------------------------------------------------------------------------------------------------------------------------------|\\n| Demurrage: Free time including day of discharge at B/L destination port.                                                                                                                                                                                                                  |\\n| Detention: The Free time and the Charge for Container (equipment rental at the port, not including port storage, plug in, or monitoring). In addition, late charges, quay rent, lift on/off, detention charges, equipment transfer charges, equipment cleaning charges are to be applied. |\\n\\n| Equipment Type       | Free Time       | Currency   | 6 - 10   | 11 - 15   | 16 - 9999   |\\n|----------------------|-----------------|------------|----------|-----------|-------------|\\n| 20’ Dry              | 5 Calendar Days | USD        | 60       | 82        | 110         |\\n| 40’ Dry              | 5 Calendar Days | USD        | 120      | 164       | 220         |\\n| Equipment Type       | Free Time       | Currency   | 4 - 7    | 8 - 14    | 15 - 9999   |\\n| 40' High Cube Reefer | 3 Calendar Days | USD        | 165      | 220       | 275         |\\n| Equipment Type       | Free Time       | Currency   | 6 - 10   | 11 - 15   | 16 - 9999   |\\n| 20’ Flat Rack        | 5 Calendar Days | USD        | 82       | 110       | 140         |\\n| 40’ Flat Rack        | 5 Calendar Days | USD        | 164      | 220       | 280         |\\n| 20’ Open Top         | 5 Calendar Days | USD        | 82       | 110       | 140         |\\n| 40’ Open Top         | 5 Calendar Days | USD        | 164      | 220       | 280         |\\n| 40’ Super Rack       | 5 Calendar Days | USD        | 164      | 220       | 280         |\""
      ]
     },
     "execution_count": 5,
     "metadata": {},
     "output_type": "execute_result"
    }
   ],
   "source": [
    "# Convert Excel to Markdown\n",
    "converter = DocumentConverter()\n",
    "result = converter.convert(file_path)\n",
    "md_data = result.document.export_to_markdown()\n",
    "\n",
    "md_data"
   ]
  },
  {
   "cell_type": "markdown",
   "id": "f876844f",
   "metadata": {},
   "source": [
    "LLM-Integration"
   ]
  },
  {
   "cell_type": "code",
   "execution_count": 6,
   "id": "4cf5288e",
   "metadata": {},
   "outputs": [],
   "source": [
    "prompt = f\"\"\"\n",
    "Analyze this shipping data and extract the following structured information:\n",
    "\n",
    "Required Fields:\n",
    "- S.N (Sequential Number)\n",
    "- Country: {country}\n",
    "- Line (ESL)\n",
    "- Port: {port}\n",
    "- Equipment Type (e.g: Dry, Reefer, Tank)\n",
    "- Currency\n",
    "- Free Days\n",
    "- Bucket 1 \n",
    "- Bucket 2 \n",
    "- Bucket 3 \n",
    "- Local Charges (if available)\n",
    "\n",
    "Bucket Rules:\n",
    "1. Free Days = 0-5 days (no charges)\n",
    "2. Bucket 1 = 6-10 days\n",
    "3. Bucket 2 = 11-15 days\n",
    "4. Bucket 3 = 16-9999 days\n",
    "Note: Different equipment types may have different free days and bucket ranges - preserve these variations.\n",
    "\n",
    "Input Data:\n",
    "{{data}}  # Double curly braces for proper formatting\n",
    "\n",
    "Return Format (JSON):\n",
    "{{\n",
    "  \"data\": [\n",
    "    {{\n",
    "      \"S.N\": int,\n",
    "      \"Country\": \"{country}\",\n",
    "      \"Line\": str,\n",
    "      \"Port\": \"{port}\",\n",
    "      \"Equipment_Type\": str, #Format: \"20-Dry\"\n",
    "      \"Currency\": str,\n",
    "      \"Free_days\": int,\n",
    "      \"Bucket 1 (6-10)\": str, \n",
    "      \"Bucket 2 (11-15)\": str,\n",
    "      \"Bucket 3 (16-9999)\": str,\n",
    "      \"Local_Charges\": str | null\n",
    "    }}\n",
    "  ]\n",
    "}}\n",
    "\n",
    "Input data:\n",
    "{md_data}\n",
    "\"\"\""
   ]
  },
  {
   "cell_type": "code",
   "execution_count": 7,
   "id": "d2e82717",
   "metadata": {},
   "outputs": [],
   "source": [
    "# Process with LLM\n",
    "response = model.generate_content(prompt)\n",
    "llm_output = response.text"
   ]
  },
  {
   "cell_type": "code",
   "execution_count": 8,
   "id": "4f537602",
   "metadata": {},
   "outputs": [
    {
     "data": {
      "text/plain": [
       "'```json\\n{\\n  \"data\": [\\n    {\\n      \"S.N\": 1,\\n      \"Country\": \"India\",\\n      \"Line\": \"ESL\",\\n      \"Port\": \"Ahmedabad\",\\n      \"Equipment_Type\": \"20-Dry\",\\n      \"Currency\": \"USD\",\\n      \"Free_days\": 5,\\n      \"Bucket 1 (6-10)\": \"60\",\\n      \"Bucket 2 (11-15)\": \"82\",\\n      \"Bucket 3 (16-9999)\": \"110\",\\n      \"Local_Charges\": null\\n    },\\n    {\\n      \"S.N\": 2,\\n      \"Country\": \"India\",\\n      \"Line\": \"ESL\",\\n      \"Port\": \"Ahmedabad\",\\n      \"Equipment_Type\": \"40-Dry\",\\n      \"Currency\": \"USD\",\\n      \"Free_days\": 5,\\n      \"Bucket 1 (6-10)\": \"120\",\\n      \"Bucket 2 (11-15)\": \"164\",\\n      \"Bucket 3 (16-9999)\": \"220\",\\n      \"Local_Charges\": null\\n    },\\n    {\\n      \"S.N\": 3,\\n      \"Country\": \"India\",\\n      \"Line\": \"ESL\",\\n      \"Port\": \"Ahmedabad\",\\n      \"Equipment_Type\": \"40-High Cube Reefer\",\\n      \"Currency\": \"USD\",\\n      \"Free_days\": 3,\\n      \"Bucket 1 (6-10)\": \"165\",\\n      \"Bucket 2 (11-15)\": \"220\",\\n      \"Bucket 3 (16-9999)\": \"275\",\\n      \"Local_Charges\": null\\n    },\\n    {\\n      \"S.N\": 4,\\n      \"Country\": \"India\",\\n      \"Line\": \"ESL\",\\n      \"Port\": \"Ahmedabad\",\\n      \"Equipment_Type\": \"20-Flat Rack\",\\n      \"Currency\": \"USD\",\\n      \"Free_days\": 5,\\n      \"Bucket 1 (6-10)\": \"82\",\\n      \"Bucket 2 (11-15)\": \"110\",\\n      \"Bucket 3 (16-9999)\": \"140\",\\n      \"Local_Charges\": null\\n    },\\n    {\\n      \"S.N\": 5,\\n      \"Country\": \"India\",\\n      \"Line\": \"ESL\",\\n      \"Port\": \"Ahmedabad\",\\n      \"Equipment_Type\": \"40-Flat Rack\",\\n      \"Currency\": \"USD\",\\n      \"Free_days\": 5,\\n      \"Bucket 1 (6-10)\": \"164\",\\n      \"Bucket 2 (11-15)\": \"220\",\\n      \"Bucket 3 (16-9999)\": \"280\",\\n      \"Local_Charges\": null\\n    },\\n    {\\n      \"S.N\": 6,\\n      \"Country\": \"India\",\\n      \"Line\": \"ESL\",\\n      \"Port\": \"Ahmedabad\",\\n      \"Equipment_Type\": \"20-Open Top\",\\n      \"Currency\": \"USD\",\\n      \"Free_days\": 5,\\n      \"Bucket 1 (6-10)\": \"82\",\\n      \"Bucket 2 (11-15)\": \"110\",\\n      \"Bucket 3 (16-9999)\": \"140\",\\n      \"Local_Charges\": null\\n    },\\n    {\\n      \"S.N\": 7,\\n      \"Country\": \"India\",\\n      \"Line\": \"ESL\",\\n      \"Port\": \"Ahmedabad\",\\n      \"Equipment_Type\": \"40-Open Top\",\\n      \"Currency\": \"USD\",\\n      \"Free_days\": 5,\\n      \"Bucket 1 (6-10)\": \"164\",\\n      \"Bucket 2 (11-15)\": \"220\",\\n      \"Bucket 3 (16-9999)\": \"280\",\\n      \"Local_Charges\": null\\n    },\\n    {\\n      \"S.N\": 8,\\n      \"Country\": \"India\",\\n      \"Line\": \"ESL\",\\n      \"Port\": \"Ahmedabad\",\\n      \"Equipment_Type\": \"40-Super Rack\",\\n      \"Currency\": \"USD\",\\n      \"Free_days\": 5,\\n      \"Bucket 1 (6-10)\": \"164\",\\n      \"Bucket 2 (11-15)\": \"220\",\\n      \"Bucket 3 (16-9999)\": \"280\",\\n      \"Local_Charges\": null\\n    }\\n  ]\\n}\\n```'"
      ]
     },
     "execution_count": 8,
     "metadata": {},
     "output_type": "execute_result"
    }
   ],
   "source": [
    "llm_output"
   ]
  },
  {
   "cell_type": "markdown",
   "id": "86885034",
   "metadata": {},
   "source": [
    "Save Data"
   ]
  },
  {
   "cell_type": "code",
   "execution_count": 9,
   "id": "bdc26f1e",
   "metadata": {},
   "outputs": [
    {
     "name": "stdout",
     "output_type": "stream",
     "text": [
      "Saved: India-Ahmedabad.csv\n"
     ]
    }
   ],
   "source": [
    "# Extract JSON from response\n",
    "json_str = llm_output[llm_output.find('{'):llm_output.rfind('}')+1]\n",
    "\n",
    "# Convert to DataFrame and save\n",
    "df = pd.read_json(io.StringIO(json_str))   \n",
    "df = pd.json_normalize(df['data'])\n",
    "\n",
    "# Save with country-port name\n",
    "df.to_csv(f\"{country}-{port}.csv\", index=False)\n",
    "print(f\"Saved: {country}-{port}.csv\")\n"
   ]
  }
 ],
 "metadata": {
  "kernelspec": {
   "display_name": ".venv",
   "language": "python",
   "name": "python3"
  },
  "language_info": {
   "codemirror_mode": {
    "name": "ipython",
    "version": 3
   },
   "file_extension": ".py",
   "mimetype": "text/x-python",
   "name": "python",
   "nbconvert_exporter": "python",
   "pygments_lexer": "ipython3",
   "version": "3.12.5"
  }
 },
 "nbformat": 4,
 "nbformat_minor": 5
}
